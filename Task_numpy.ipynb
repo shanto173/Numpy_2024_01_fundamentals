{
 "cells": [
  {
   "cell_type": "markdown",
   "metadata": {
    "id": "6WdKdPGx-tnY"
   },
   "source": [
    "**Note: In Data Science googling is a very important skill. If you find some difficulties to solve the problem, google it and try to find some clues to solve.**"
   ]
  },
  {
   "cell_type": "code",
   "execution_count": 2,
   "metadata": {
    "id": "-J4F1ysN4mLk"
   },
   "outputs": [],
   "source": [
    "import numpy as np"
   ]
  },
  {
   "cell_type": "markdown",
   "metadata": {
    "id": "a_K8IH-C6HDK"
   },
   "source": [
    "###`Q-1` Create a null vector of size 10 but the fifth value which is 1.\n",
    "\n"
   ]
  },
  {
   "cell_type": "code",
   "execution_count": 8,
   "metadata": {
    "id": "sTF03KsZ6QUI"
   },
   "outputs": [
    {
     "data": {
      "text/plain": [
       "array([nan, nan, nan, nan,  1., nan, nan, nan, nan, nan])"
      ]
     },
     "execution_count": 8,
     "metadata": {},
     "output_type": "execute_result"
    }
   ],
   "source": [
    "#Code here\n",
    "\n",
    "a = np.nan*np.empty(10)\n",
    "a[4] = 1\n",
    "a\n",
    "b = np.full(10,np.nan)\n",
    "b\n",
    "b[4]=1\n",
    "b"
   ]
  },
  {
   "cell_type": "markdown",
   "metadata": {
    "id": "TEiG25rS6S1i"
   },
   "source": [
    "###`Q-2` Ask user to input two numbers a, b. Write a program to generate a random array of shape (a, b) and print the array and avg of the array."
   ]
  },
  {
   "cell_type": "code",
   "execution_count": 33,
   "metadata": {
    "id": "ihwn4oOH6Vh7"
   },
   "outputs": [
    {
     "name": "stdin",
     "output_type": "stream",
     "text": [
      "Enter 2 value with space :  2 3 \n"
     ]
    },
    {
     "name": "stdout",
     "output_type": "stream",
     "text": [
      "[[0.65119993 0.1640673  0.10375826]\n",
      " [0.97082532 0.77452849 0.60682133]]\n",
      "Avg is : 0.5452001065512276\n"
     ]
    }
   ],
   "source": [
    "#Code here\n",
    "#  Taking input from user\n",
    "# a = int(input('Enter a number'))\n",
    "# b = int(input('Enter a number'))\n",
    "\n",
    "# making a 2D array of user given input shape\n",
    "# c = np.random.random((a,b))\n",
    "# print(c)\n",
    "# print('Avg is :',np.mean(c))\n",
    "\n",
    "\n",
    "## or another approach\n",
    "#  Storing 2 integer\n",
    "# a,b = np.int32(input('Enter 2 value with space : ').split())\n",
    "\n",
    "# # making a 2D array of user given input shape\n",
    "# c = np.random.random((a,b))\n",
    "# print(c)\n",
    "# print('Avg is :',np.mean(c))\n",
    "\n",
    "\n",
    "\n",
    "## or another approach\n",
    "#  Storing 2 integer\n",
    "a,b = map(int,input('Enter 2 value with space : ').split())\n",
    "\n",
    "# making a 2D array of user given input shape\n",
    "c = np.random.random((a,b))\n",
    "print(c)\n",
    "print('Avg is :',np.mean(c))\n",
    "\n"
   ]
  },
  {
   "cell_type": "markdown",
   "metadata": {
    "id": "2iEeybS06ZSq"
   },
   "source": [
    "###`Q-3`Write a function to create a 2d array with 1 on the border and 0 inside. Take 2-D array shape as (a,b) as parameter to function.\n",
    "\n",
    "Eg.-\n",
    "```\n",
    "[[1,1,1,1],\n",
    "[1,0,0,1],\n",
    "[1,0,0,1],\n",
    "[1,1,1,1]]\n",
    "```"
   ]
  },
  {
   "cell_type": "code",
   "execution_count": 34,
   "metadata": {
    "id": "gEKndkDU6ZSs"
   },
   "outputs": [
    {
     "name": "stdin",
     "output_type": "stream",
     "text": [
      "Enter a number: 4 5\n"
     ]
    },
    {
     "data": {
      "text/plain": [
       "array([[1., 1., 1., 1., 1.],\n",
       "       [1., 0., 0., 0., 1.],\n",
       "       [1., 0., 0., 0., 1.],\n",
       "       [1., 1., 1., 1., 1.]])"
      ]
     },
     "execution_count": 34,
     "metadata": {},
     "output_type": "execute_result"
    }
   ],
   "source": [
    "#Code here\n",
    "def fun(a,b):\n",
    "    c = np.ones((a,b))  \n",
    "    c[1:(a-1),1:(b-1)] = 0\n",
    "    return c\n",
    "\n",
    "a,b = np.int32(input(\"Enter a number:\").split())\n",
    "fun(a,b)"
   ]
  },
  {
   "cell_type": "code",
   "execution_count": null,
   "metadata": {},
   "outputs": [],
   "source": []
  },
  {
   "cell_type": "markdown",
   "metadata": {
    "id": "QRJicQ8j6ZlE"
   },
   "source": [
    "### `Q-4` Create a vector of size 10 with values ranging from 0 to 1, both excluded.\n"
   ]
  },
  {
   "cell_type": "code",
   "execution_count": 36,
   "metadata": {},
   "outputs": [
    {
     "data": {
      "text/plain": [
       "array([0.09090909, 0.18181818, 0.27272727, 0.36363636, 0.45454545,\n",
       "       0.54545455, 0.63636364, 0.72727273, 0.81818182, 0.90909091])"
      ]
     },
     "execution_count": 36,
     "metadata": {},
     "output_type": "execute_result"
    }
   ],
   "source": [
    "np.linspace(0,1,12)[1:-1]"
   ]
  },
  {
   "cell_type": "markdown",
   "metadata": {
    "id": "vb4jK4yQ6Zs2"
   },
   "source": [
    "### `Q-5` Can you create a identity mattrix of shape (3,4). If yes write code for it."
   ]
  },
  {
   "cell_type": "code",
   "execution_count": 41,
   "metadata": {
    "id": "DTV_AbMS6Zs4"
   },
   "outputs": [
    {
     "data": {
      "text/plain": [
       "array([[1., 0., 0., 0.],\n",
       "       [0., 1., 0., 0.],\n",
       "       [0., 0., 1., 0.],\n",
       "       [0., 0., 0., 1.]])"
      ]
     },
     "execution_count": 41,
     "metadata": {},
     "output_type": "execute_result"
    }
   ],
   "source": [
    "#Code here\n",
    "# np.identity(3)\n",
    "np.eye(4)"
   ]
  },
  {
   "cell_type": "markdown",
   "metadata": {
    "id": "QtjAFm5PEntK"
   },
   "source": [
    "### `Q-6:` Create a 5x5 matrix with row values ranging from 0 to 4."
   ]
  },
  {
   "cell_type": "code",
   "execution_count": 47,
   "metadata": {
    "id": "z2WGxRjvEuRS"
   },
   "outputs": [
    {
     "data": {
      "text/plain": [
       "array([[0., 1., 2., 3., 4.],\n",
       "       [0., 1., 2., 3., 4.],\n",
       "       [0., 1., 2., 3., 4.],\n",
       "       [0., 1., 2., 3., 4.],\n",
       "       [0., 1., 2., 3., 4.]])"
      ]
     },
     "execution_count": 47,
     "metadata": {},
     "output_type": "execute_result"
    }
   ],
   "source": [
    "#Code here\n",
    "\n",
    "a = np.zeros((5,5))\n",
    "\n",
    "a[:,:] = np.arange(0,5)\n",
    "a\n",
    "\n"
   ]
  },
  {
   "cell_type": "markdown",
   "metadata": {
    "id": "KPpvxKjVHnyx"
   },
   "source": [
    "### `Q-7:`  Consider a random integer (in range 1 to 100) vector with shape `(10,2)` representing coordinates, and coordinates of a point as array is given. Create an array of distance of each point in the random vectros from the given point. Distance array should be interger type.\n",
    "\n",
    "```\n",
    "point = np.array([2,3])\n",
    "```\n"
   ]
  },
  {
   "cell_type": "code",
   "execution_count": 71,
   "metadata": {
    "id": "X7KGnWLNIM6f"
   },
   "outputs": [
    {
     "name": "stdout",
     "output_type": "stream",
     "text": [
      "[[ 7 52]\n",
      " [76 69]\n",
      " [15 76]\n",
      " [65 42]\n",
      " [72 97]\n",
      " [22 94]\n",
      " [95 10]\n",
      " [82  2]\n",
      " [97 72]\n",
      " [11 10]]\n"
     ]
    },
    {
     "data": {
      "text/plain": [
       "array([ 49,  99,  74,  74, 117,  93,  93,  80, 117,  11])"
      ]
     },
     "execution_count": 71,
     "metadata": {},
     "output_type": "execute_result"
    }
   ],
   "source": [
    "#code here\n",
    "\n",
    "a = np.random.randint(1,100,20).reshape(10,2)\n",
    "b = np.array([2,3])\n",
    "print(a)\n",
    "\n",
    "np.sqrt(np.sum((a-b)**2,axis=1)).astype(int)\n"
   ]
  },
  {
   "cell_type": "markdown",
   "metadata": {
    "id": "tajOFJlCDwTr"
   },
   "source": [
    "### `Q-8:` Consider a (6,7,8) shape array, what is the index (x,y,z) of the 100th element?"
   ]
  },
  {
   "cell_type": "code",
   "execution_count": 75,
   "metadata": {
    "id": "qH4oxvs0D3Ra"
   },
   "outputs": [
    {
     "name": "stdout",
     "output_type": "stream",
     "text": [
      "[[[  0   1   2   3   4   5   6   7]\n",
      "  [  8   9  10  11  12  13  14  15]\n",
      "  [ 16  17  18  19  20  21  22  23]\n",
      "  [ 24  25  26  27  28  29  30  31]\n",
      "  [ 32  33  34  35  36  37  38  39]\n",
      "  [ 40  41  42  43  44  45  46  47]\n",
      "  [ 48  49  50  51  52  53  54  55]]\n",
      "\n",
      " [[ 56  57  58  59  60  61  62  63]\n",
      "  [ 64  65  66  67  68  69  70  71]\n",
      "  [ 72  73  74  75  76  77  78  79]\n",
      "  [ 80  81  82  83  84  85  86  87]\n",
      "  [ 88  89  90  91  92  93  94  95]\n",
      "  [ 96  97  98  99 100 101 102 103]\n",
      "  [104 105 106 107 108 109 110 111]]\n",
      "\n",
      " [[112 113 114 115 116 117 118 119]\n",
      "  [120 121 122 123 124 125 126 127]\n",
      "  [128 129 130 131 132 133 134 135]\n",
      "  [136 137 138 139 140 141 142 143]\n",
      "  [144 145 146 147 148 149 150 151]\n",
      "  [152 153 154 155 156 157 158 159]\n",
      "  [160 161 162 163 164 165 166 167]]\n",
      "\n",
      " [[168 169 170 171 172 173 174 175]\n",
      "  [176 177 178 179 180 181 182 183]\n",
      "  [184 185 186 187 188 189 190 191]\n",
      "  [192 193 194 195 196 197 198 199]\n",
      "  [200 201 202 203 204 205 206 207]\n",
      "  [208 209 210 211 212 213 214 215]\n",
      "  [216 217 218 219 220 221 222 223]]\n",
      "\n",
      " [[224 225 226 227 228 229 230 231]\n",
      "  [232 233 234 235 236 237 238 239]\n",
      "  [240 241 242 243 244 245 246 247]\n",
      "  [248 249 250 251 252 253 254 255]\n",
      "  [256 257 258 259 260 261 262 263]\n",
      "  [264 265 266 267 268 269 270 271]\n",
      "  [272 273 274 275 276 277 278 279]]\n",
      "\n",
      " [[280 281 282 283 284 285 286 287]\n",
      "  [288 289 290 291 292 293 294 295]\n",
      "  [296 297 298 299 300 301 302 303]\n",
      "  [304 305 306 307 308 309 310 311]\n",
      "  [312 313 314 315 316 317 318 319]\n",
      "  [320 321 322 323 324 325 326 327]\n",
      "  [328 329 330 331 332 333 334 335]]]\n"
     ]
    },
    {
     "data": {
      "text/plain": [
       "(1, 5, 4)"
      ]
     },
     "execution_count": 75,
     "metadata": {},
     "output_type": "execute_result"
    }
   ],
   "source": [
    "#Code here\n",
    "a = np.arange(6*7*8).reshape(6,7,8)\n",
    "print(a)\n",
    "np.unravel_index(100,a.shape)"
   ]
  },
  {
   "cell_type": "markdown",
   "metadata": {
    "id": "9LxBAbT2Pw33"
   },
   "source": [
    "### `Q-9:` Arrays\n",
    "\n",
    "You are given a space separated list of numbers. Your task is to print a reversed NumPy array with the element type float.\n",
    "\n"
   ]
  },
  {
   "cell_type": "markdown",
   "metadata": {
    "id": "JJpqVms2Nq7L"
   },
   "source": [
    "**Input Format:**\n",
    "\n",
    "A single line of input containing space separated numbers.\n",
    "\n",
    "**Output Format:**\n",
    "\n",
    "Print the reverse NumPy array with type float.\n",
    "\n",
    "**Example 1:**\n",
    "\n",
    "Input:\n",
    "\n",
    "```bash\n",
    "1 2 3 4 -8 -10\n",
    "```\n",
    "\n",
    "Output:\n",
    "\n",
    "```bash\n",
    "[-10.  -8.   4.   3.   2.   1.]\n",
    "```"
   ]
  },
  {
   "cell_type": "code",
   "execution_count": 79,
   "metadata": {
    "id": "7iQyg6ChNl3j"
   },
   "outputs": [
    {
     "name": "stdin",
     "output_type": "stream",
     "text": [
      "enter number 1 2 3 4 -8 -10\n"
     ]
    },
    {
     "name": "stdout",
     "output_type": "stream",
     "text": [
      "['1', '2', '3', '4', '-8', '-10']\n"
     ]
    },
    {
     "data": {
      "text/plain": [
       "array([-10.,  -8.,   4.,   3.,   2.,   1.])"
      ]
     },
     "execution_count": 79,
     "metadata": {},
     "output_type": "execute_result"
    }
   ],
   "source": [
    "#Code here\n",
    "a = input('enter number').strip().split()\n",
    "print(a) \n",
    "a = np.array(a[::-1],dtype=float)\n",
    "a"
   ]
  },
  {
   "cell_type": "markdown",
   "metadata": {
    "id": "TPxD7jM8Sjz9"
   },
   "source": [
    "### `Q-10:` Elements count\n",
    "\n",
    "Count the number of elements of a numpy array.\n",
    "\n"
   ]
  },
  {
   "cell_type": "markdown",
   "metadata": {
    "id": "oHTiTz_jNkAU"
   },
   "source": [
    "**Example 1:**\n",
    "\n",
    "Input:\n",
    "```bash\n",
    "np.array([])\n",
    "```\n",
    "\n",
    "Output:\n",
    "```bash\n",
    "elements_count :  0\n",
    "```\n",
    "\n",
    "**Example 2:**\n",
    "\n",
    "Input:\n",
    "```bash\n",
    "np.array([1, 2])\n",
    "```\n",
    "\n",
    "Output:\n",
    "```bash\n",
    "elements_count :  2\n",
    "```"
   ]
  },
  {
   "cell_type": "code",
   "execution_count": 96,
   "metadata": {
    "id": "RG0H2I-TNeGN"
   },
   "outputs": [
    {
     "data": {
      "text/plain": [
       "0"
      ]
     },
     "execution_count": 96,
     "metadata": {},
     "output_type": "execute_result"
    }
   ],
   "source": [
    "#Code here\n",
    "\n",
    "\n",
    "a = np.array([])\n",
    "len(a)\n"
   ]
  },
  {
   "cell_type": "markdown",
   "metadata": {
    "id": "pwgPz-3l5ic5"
   },
   "source": [
    "### `Q-11:` Softmax function\n",
    "\n",
    "Create a Python function to calculate the Softmax of the given numpy 1D array. The function only accepts the numpy 1D array, otherwise raise error.\n",
    "\n",
    "$$\\Large \\sigma(\\vec z)_i = \\frac{e^{z_i}}{\\sum_{j=i}^{K}{e^{z_j}}}$$\n",
    "\n",
    "https://en.wikipedia.org/wiki/Softmax_function\n",
    "\n"
   ]
  },
  {
   "cell_type": "markdown",
   "metadata": {
    "id": "eZ3WJt6UM1ul"
   },
   "source": [
    "**Example 1:**\n",
    "\n",
    "Input:\n",
    "```bash\n",
    "[86.03331084 37.7285648  48.64908087 87.16563062 38.40852563 37.20006318]\n",
    "```\n",
    "\n",
    "Output:\n",
    "```bash\n",
    "[2.43733249e-01, 2.56112115e-22, 1.41628284e-17, 7.56266751e-01,\n",
    "       5.05514197e-22, 1.50974911e-22]\n",
    "```\n",
    "\n",
    "**Example 2:**\n",
    "\n",
    "Input:\n",
    "```bash\n",
    "[33.17344305 45.61961654 82.05405781 80.9647098  68.82830233 91.52064278]\n",
    "```\n",
    "\n",
    "Output:\n",
    "```bash\n",
    "[4.57181035e-26, 1.16249923e-20, 7.73872596e-05, 2.60358426e-05,\n",
    "       1.39571531e-10, 9.99896577e-01]\n",
    "```"
   ]
  },
  {
   "cell_type": "code",
   "execution_count": 88,
   "metadata": {
    "id": "VNzj05lkNaNi"
   },
   "outputs": [
    {
     "data": {
      "text/plain": [
       "[<matplotlib.lines.Line2D at 0x2a4f65666b0>]"
      ]
     },
     "execution_count": 88,
     "metadata": {},
     "output_type": "execute_result"
    },
    {
     "data": {
      "image/png": "[encoded data removed]",
      "text/plain": [
       "<Figure size 640x480 with 1 Axes>"
      ]
     },
     "metadata": {},
     "output_type": "display_data"
    }
   ],
   "source": [
    "#Code here\n",
    "def softmax(array):\n",
    "    if type(array) != np.ndarray:\n",
    "        raise TypeError(\"Need numpy array\")\n",
    "    return (np.exp(array))/np.sum(np.exp(array))\n",
    "softmax(np.array([33.17344305, 45.61961654, 82.05405781, 80.9647098,  68.82830233, 91.52064278]))\n",
    "import matplotlib.pyplot as plt\n",
    "plt.plot([33.17344305, 45.61961654, 82.05405781, 80.9647098,  68.82830233, 91.52064278],softmax(np.array([33.17344305, 45.61961654, 82.05405781, 80.9647098,  68.82830233, 91.52064278])))"
   ]
  },
  {
   "cell_type": "markdown",
   "metadata": {
    "id": "k4JWSwWu_HXg"
   },
   "source": [
    "### `Q-12:` Vertical stack\n",
    "\n",
    "Write a python function that accepts infinite number of numpy arrays and do the vertical stack to them. Then return that new array as result. The function only accepts the numpy array, otherwise raise error.\n",
    "\n"
   ]
  },
  {
   "cell_type": "markdown",
   "metadata": {
    "id": "XhhV3mraNAWr"
   },
   "source": [
    "**Example 1:**\n",
    "\n",
    "Input:\n",
    "```bash\n",
    "a= [[0 1 2 3 4]\n",
    " [5 6 7 8 9]]\n",
    "\n",
    "b= [[1 1 1 1 1]\n",
    " [1 1 1 1 1]]\n",
    "```\n",
    "\n",
    "Output:\n",
    "\n",
    "```bash\n",
    "[[0 1 2 3 4]\n",
    " [5 6 7 8 9]\n",
    " [1 1 1 1 1]\n",
    " [1 1 1 1 1]]\n",
    "```\n",
    "\n",
    "**Example 2:**\n",
    "\n",
    "Input:\n",
    "```bash\n",
    "a= [[0 1 2 3 4]\n",
    " [5 6 7 8 9]]\n",
    "\n",
    "b= [[1 1 1 1 1]\n",
    " [1 1 1 1 1]]\n",
    "\n",
    "c= [[0.10117373 0.1677244  0.73764059 0.83166097 0.48985695]\n",
    " [0.44581567 0.13502419 0.55692335 0.16479622 0.61193593]]\n",
    "```\n",
    "\n",
    "Output:\n",
    "```bash\n",
    "[[0.         1.         2.         3.         4.        ]\n",
    " [5.         6.         7.         8.         9.        ]\n",
    " [1.         1.         1.         1.         1.        ]\n",
    " [1.         1.         1.         1.         1.        ]\n",
    " [0.10117373 0.1677244  0.73764059 0.83166097 0.48985695]\n",
    " [0.44581567 0.13502419 0.55692335 0.16479622 0.61193593]]\n",
    "```"
   ]
  },
  {
   "cell_type": "code",
   "execution_count": null,
   "metadata": {
    "id": "dhtnbSj6NP8z"
   },
   "outputs": [],
   "source": [
    "#Coder here"
   ]
  },
  {
   "cell_type": "markdown",
   "metadata": {
    "id": "3mk8T6CuC2DP"
   },
   "source": [
    "### `Q-13:` Dates\n",
    "\n",
    "Create a python function named **date_array** that accepts two dates as string format and returns a numpy array of dates between those 2 dates. The function only accept 2 strings, otherwise raise error. The date format should be like this only: `2022-12-6`. The end date should be included and for simplicity, choose dates from a same year.\n",
    "\n"
   ]
  },
  {
   "cell_type": "markdown",
   "metadata": {
    "id": "E3IgjnTTNFEk"
   },
   "source": [
    "**Example 1:**\n",
    "\n",
    "Input:\n",
    "```bash\n",
    "date_array(start = '2020-09-15', end = '2020-09-25')\n",
    "```\n",
    "\n",
    "Output:\n",
    "```bash\n",
    "['2020-09-15', '2020-09-16', '2020-09-17', '2020-09-18',\n",
    " '2020-09-19', '2020-09-20', '2020-09-21', '2020-09-22',\n",
    " '2020-09-23', '2020-09-24', '2020-09-25']\n",
    "```\n",
    "\n",
    "**Example 2:**\n",
    "\n",
    "Input:\n",
    "```bash\n",
    "date_array(start = '2022-12-01', end = '2022-12-06')\n",
    "```\n",
    "\n",
    "Output:\n",
    "```bash\n",
    "['2022-12-01', '2022-12-02', '2022-12-03', '2022-12-04', '2022-12-05', '2022-12-06']\n",
    "```\n",
    "\n",
    "**Example 3:**\n",
    "\n",
    "Input:\n",
    "```bash\n",
    "date_array(start = '2020-11-25', end = '2020-11-30')\n",
    "```\n",
    "\n",
    "Output:\n",
    "```bash\n",
    "['2020-11-25', '2020-11-26', '2020-11-27', '2020-11-28',\n",
    " '2020-11-29', '2020-11-30']\n",
    "```"
   ]
  },
  {
   "cell_type": "code",
   "execution_count": null,
   "metadata": {
    "id": "Yj5PBfQQNTnL"
   },
   "outputs": [],
   "source": [
    "#Code here"
   ]
  },
  {
   "cell_type": "markdown",
   "metadata": {
    "id": "bcEp0wTWQijK"
   },
   "source": [
    "###`Q-14:` Subtract the mean of each row from a matrix."
   ]
  },
  {
   "cell_type": "code",
   "execution_count": null,
   "metadata": {
    "id": "rpILVGcgQzMo"
   },
   "outputs": [],
   "source": [
    "#code here"
   ]
  },
  {
   "cell_type": "markdown",
   "metadata": {
    "id": "A-dMVlPPSBTT"
   },
   "source": [
    "###`Q-15:` Swap column-1 of array with column-2 in the array."
   ]
  },
  {
   "cell_type": "code",
   "execution_count": null,
   "metadata": {
    "id": "3RtngM9-Q6S7"
   },
   "outputs": [],
   "source": [
    "#Code here"
   ]
  },
  {
   "cell_type": "code",
   "execution_count": null,
   "metadata": {
    "id": "ueoMV_LlSnGU"
   },
   "outputs": [],
   "source": []
  },
  {
   "cell_type": "markdown",
   "metadata": {
    "id": "cB4VMexvS6Zi"
   },
   "source": [
    "###`Q-16:` Replace odd elements in arrays with -1."
   ]
  },
  {
   "cell_type": "code",
   "execution_count": null,
   "metadata": {
    "id": "Bt83nXEVS5O4"
   },
   "outputs": [],
   "source": [
    "#Code here"
   ]
  },
  {
   "cell_type": "code",
   "execution_count": null,
   "metadata": {
    "id": "1ZlvMaXLVyoW"
   },
   "outputs": [],
   "source": []
  },
  {
   "cell_type": "markdown",
   "metadata": {
    "id": "kf_qvmBxWIT_"
   },
   "source": [
    "###`Q-17:` Given two arrays of same shape make an array of max out of two arrays. (Numpy way)\n",
    "```\n",
    "a=np.array([6,3,1,5,8])\n",
    "b=np.array([3,2,1,7,2])\n",
    "\n",
    "Result-> [6 3 1 7 8]\n",
    "```"
   ]
  },
  {
   "cell_type": "code",
   "execution_count": null,
   "metadata": {
    "id": "TB9ZvF-EZSfu"
   },
   "outputs": [],
   "source": [
    "#Code here"
   ]
  },
  {
   "cell_type": "code",
   "execution_count": null,
   "metadata": {
    "id": "D7ad-A6jZzCL"
   },
   "outputs": [],
   "source": []
  },
  {
   "cell_type": "markdown",
   "metadata": {
    "id": "iOQLUIeGc3zA"
   },
   "source": [
    "###`Q-18` Answer below asked questions on given array:\n",
    "1. Fetch Every alternate column of the array\n",
    "2. Normalise the given array\n",
    "\n",
    "https://en.wikipedia.org/wiki/Normalization_(statistics)\n",
    "\n",
    "There are different form of normalisation for this question use below formula.\n",
    "\n",
    "$$\\large X_{normalized} = \\frac{X - X_{min}}{X_{max} - X_{min}}$$\n",
    "\n",
    "```python\n",
    "arr1=np.random.randint(low=1, high=10000, size=40).reshape(8,5)\n",
    "```\n"
   ]
  },
  {
   "cell_type": "code",
   "execution_count": 101,
   "metadata": {
    "colab": {
     "base_uri": "https://localhost:8080/"
    },
    "id": "vjSm18k3d_1p",
    "outputId": "83d23b61-d2ae-41bc-e91e-0e0722667521"
   },
   "outputs": [
    {
     "data": {
      "text/plain": [
       "array([[ 0.24600343,  0.07785214, -0.05749733, -0.19151241, -0.17135013],\n",
       "       [ 0.33050243, -0.1666348 ,  0.14011917,  0.53377314, -0.01605297],\n",
       "       [-0.47751927, -0.51080306, -0.09307186,  0.22695943,  0.56637597],\n",
       "       [-0.26769912,  0.48919694,  0.50386873, -0.28564395, -0.43362403],\n",
       "       [ 0.20346846,  0.43119822, -0.49613127, -0.46622686, -0.1493863 ],\n",
       "       [ 0.52248073, -0.4234863 , -0.337291  ,  0.39178811,  0.12218992],\n",
       "       [-0.3443477 ,  0.0333652 ,  0.23172359, -0.359295  ,  0.31908915],\n",
       "       [-0.21288895,  0.06931166,  0.10827997,  0.15015754, -0.2372416 ]])"
      ]
     },
     "execution_count": 101,
     "metadata": {},
     "output_type": "execute_result"
    }
   ],
   "source": [
    "# Given\n",
    "def norm(array):\n",
    "    x = (np.mean(array,axis=0)-array)/(np.max(array,axis=0)-np.min(array,axis=0))\n",
    "    return x\n",
    "arr1=np.random.randint(low=1, high=10000, size=40).reshape(8,5)\n",
    "arr1\n",
    "\n",
    "\n",
    "norm(arr1)"
   ]
  },
  {
   "cell_type": "code",
   "execution_count": null,
   "metadata": {
    "id": "d7u8DB47eBfQ"
   },
   "outputs": [],
   "source": [
    "#Code here"
   ]
  },
  {
   "cell_type": "markdown",
   "metadata": {
    "id": "jCzsVEKLgGNo"
   },
   "source": [
    "###`Q-19:` Write a function which will accept 2 arguments.\n",
    "First: A 1D numpy array arr\n",
    "\n",
    "Second: An integer n {Please make sure n<=len(arr)}\n",
    "\n",
    "Output: The output should be the nth largest item out of the array\n",
    "```\n",
    "# Example1 : arr=(12,34,40,7,1,0) and n=3, the output should be 12\n",
    "# Example2 : arr=(12,34,40,7,1,0) and n=1, the output should be 40\n",
    "```"
   ]
  },
  {
   "cell_type": "code",
   "execution_count": 120,
   "metadata": {
    "id": "J4AzkDk7gXSG"
   },
   "outputs": [
    {
     "data": {
      "text/plain": [
       "40"
      ]
     },
     "execution_count": 120,
     "metadata": {},
     "output_type": "execute_result"
    }
   ],
   "source": [
    "#Code here\n",
    "a = np.array([12,34,40,7,1,0])\n",
    "np.unique(np.sort(a))[::-1][1-1]"
   ]
  },
  {
   "cell_type": "markdown",
   "metadata": {
    "id": "ja0xPCgjhBsg"
   },
   "source": [
    "###`Q-20:` Create the following pattern without hardcoding. Use only numpy functions and the below input array a.\n",
    "```\n",
    "# Input: a = np.array([1,2,3])\n",
    "# Output: array([1, 1, 1, 2, 2, 2, 3, 3, 3, 1, 2, 3, 1, 2, 3, 1, 2, 3])\n",
    "```"
   ]
  },
  {
   "cell_type": "code",
   "execution_count": null,
   "metadata": {
    "id": "CndS8TTNhG0F"
   },
   "outputs": [],
   "source": [
    "#code here\n"
   ]
  }
 ],
 "metadata": {
  "colab": {
   "provenance": []
  },
  "kernelspec": {
   "display_name": "Python 3 (ipykernel)",
   "language": "python",
   "name": "python3"
  },
  "language_info": {
   "codemirror_mode": {
    "name": "ipython",
    "version": 3
   },
   "file_extension": ".py",
   "mimetype": "text/x-python",
   "name": "python",
   "nbconvert_exporter": "python",
   "pygments_lexer": "ipython3",
   "version": "3.10.8"
  }
 },
 "nbformat": 4,
 "nbformat_minor": 4
}
